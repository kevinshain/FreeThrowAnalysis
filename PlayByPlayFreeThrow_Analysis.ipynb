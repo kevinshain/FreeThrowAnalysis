{
 "cells": [
  {
   "cell_type": "code",
   "execution_count": 21,
   "metadata": {
    "collapsed": true
   },
   "outputs": [],
   "source": [
    "import psycopg2\n",
    "import sys\n",
    "sys.path.append('/Users/kshain/Documents/Git')\n",
    "from progressbar import ProgressBar\n",
    "import sqlalchemy\n",
    "import pandas.io.sql as psql\n",
    "import numpy as np\n",
    "from matplotlib import pyplot as plt\n",
    "import warnings\n",
    "warnings.filterwarnings('ignore')\n",
    "% matplotlib inline\n",
    "import scipy\n",
    "import pandas as pd\n",
    "from scipy.optimize import curve_fit\n",
    "\n",
    "from sklearn.ensemble import RandomForestClassifier\n",
    "from sklearn.ensemble import GradientBoostingClassifier\n",
    "from sklearn.linear_model import LogisticRegression\n",
    "from sklearn.naive_bayes import GaussianNB\n",
    "from sklearn.svm import SVC\n",
    "\n",
    "from sklearn.cross_validation import train_test_split\n",
    "from sklearn.metrics import confusion_matrix\n",
    "from sklearn.preprocessing import StandardScaler"
   ]
  },
  {
   "cell_type": "markdown",
   "metadata": {},
   "source": [
    "# Play-by-play Free Throw Analysis"
   ]
  },
  {
   "cell_type": "markdown",
   "metadata": {},
   "source": [
    "## Table of contents\n",
    "* [Connecting to the Database](#Connecting-to-the-Database)\n",
    "* [Data Exploration](#Data-Exploration)\n",
    "    * [Historical Free Throw Analysis](#Historical-Free-Throw-Analysis)\n",
    "    * [FT percentage as a function of gametime](#FT-percentage-as-a-function-of-gametime)\n",
    "    * [Gametime dependence by player](#Gametime-dependence-by-player)\n",
    "    * [Effect of years in the league](#Effect-of-years-in-the-league)\n",
    "    * [Effect of free throw number](#Effect-of-free-throw-number)\n",
    "* [Free Throw Prediction](#Free-Throw-Prediction)\n",
    "    * [Obeying the flow of time](#Obeying-the-flow-of-time)\n",
    "    * [The log loss metric](#The-log-loss-metric)\n",
    "    * [Feature standardization](#Feature-standardization)\n",
    "    * [Making predictions](#Making-predictions)\n",
    "* [Conclusion](#Conclusion)\n",
    "* [Future directions](#Future-directions)"
   ]
  },
  {
   "cell_type": "markdown",
   "metadata": {},
   "source": [
    "## Connecting to the Database"
   ]
  },
  {
   "cell_type": "markdown",
   "metadata": {},
   "source": [
    "The database was assembled by `DataScrape.ipynb`."
   ]
  },
  {
   "cell_type": "code",
   "execution_count": 2,
   "metadata": {
    "collapsed": false
   },
   "outputs": [
    {
     "name": "stdout",
     "output_type": "stream",
     "text": [
      "Connecting to database\n",
      " -> host='localhost',database='freethrows', user='kshain'\n",
      "Connected!\n",
      "\n"
     ]
    }
   ],
   "source": [
    "conn = None\n",
    "\n",
    "try:\n",
    "    conn_string = \"host='localhost',database='freethrows', user='kshain'\"\n",
    "    print('Connecting to database\\n ->',conn_string)\n",
    "    conn = psycopg2.connect(host='localhost',database='freethrows', user='kshain') \n",
    "    cur = conn.cursor()\n",
    "    print('Connected!\\n')            \n",
    "\n",
    "except psycopg2.DatabaseError:\n",
    "    print ('Error')  \n",
    "    sys.exit(1)"
   ]
  },
  {
   "cell_type": "code",
   "execution_count": 3,
   "metadata": {
    "collapsed": true
   },
   "outputs": [],
   "source": [
    "engine = sqlalchemy.create_engine('postgresql://kshain@localhost:5432/freethrows')"
   ]
  },
  {
   "cell_type": "markdown",
   "metadata": {},
   "source": [
    "## Data Exploration"
   ]
  },
  {
   "cell_type": "markdown",
   "metadata": {},
   "source": [
    "### Historical Free Throw Analysis"
   ]
  },
  {
   "cell_type": "markdown",
   "metadata": {},
   "source": [
    "To confirm the general integrity of the data, I'll repeat some of the very macroscopic analyses that appear in popular news stories. First, I confirm that the overall average free throw percentage is around 75%."
   ]
  },
  {
   "cell_type": "code",
   "execution_count": 8,
   "metadata": {
    "collapsed": false
   },
   "outputs": [
    {
     "data": {
      "text/html": [
       "<div>\n",
       "<table border=\"1\" class=\"dataframe\">\n",
       "  <thead>\n",
       "    <tr style=\"text-align: right;\">\n",
       "      <th></th>\n",
       "      <th>alltime_avg_ft_pct</th>\n",
       "    </tr>\n",
       "  </thead>\n",
       "  <tbody>\n",
       "    <tr>\n",
       "      <th>0</th>\n",
       "      <td>74.897873</td>\n",
       "    </tr>\n",
       "  </tbody>\n",
       "</table>\n",
       "</div>"
      ],
      "text/plain": [
       "   alltime_avg_ft_pct\n",
       "0           74.897873"
      ]
     },
     "execution_count": 8,
     "metadata": {},
     "output_type": "execute_result"
    }
   ],
   "source": [
    "query = \"SELECT SUM(ft)/SUM(fta)*100 as alltime_avg_ft_pct FROM seasontotals\"\n",
    "psql.read_sql(query, conn) "
   ]
  },
  {
   "cell_type": "markdown",
   "metadata": {},
   "source": [
    "Next, I'll make sure that it doesn't vary much over time and reaches a maximum of 77.1% in 1974."
   ]
  },
  {
   "cell_type": "code",
   "execution_count": 10,
   "metadata": {
    "collapsed": false
   },
   "outputs": [
    {
     "data": {
      "text/html": [
       "<div>\n",
       "<table border=\"1\" class=\"dataframe\">\n",
       "  <thead>\n",
       "    <tr style=\"text-align: right;\">\n",
       "      <th></th>\n",
       "      <th>year</th>\n",
       "      <th>avg_ft_pct</th>\n",
       "    </tr>\n",
       "  </thead>\n",
       "  <tbody>\n",
       "    <tr>\n",
       "      <th>0</th>\n",
       "      <td>1950</td>\n",
       "      <td>71.248957</td>\n",
       "    </tr>\n",
       "    <tr>\n",
       "      <th>1</th>\n",
       "      <td>1951</td>\n",
       "      <td>73.336719</td>\n",
       "    </tr>\n",
       "    <tr>\n",
       "      <th>2</th>\n",
       "      <td>1952</td>\n",
       "      <td>73.484641</td>\n",
       "    </tr>\n",
       "    <tr>\n",
       "      <th>3</th>\n",
       "      <td>1953</td>\n",
       "      <td>71.590322</td>\n",
       "    </tr>\n",
       "    <tr>\n",
       "      <th>4</th>\n",
       "      <td>1954</td>\n",
       "      <td>70.874784</td>\n",
       "    </tr>\n",
       "    <tr>\n",
       "      <th>5</th>\n",
       "      <td>1955</td>\n",
       "      <td>73.700929</td>\n",
       "    </tr>\n",
       "    <tr>\n",
       "      <th>6</th>\n",
       "      <td>1956</td>\n",
       "      <td>74.521973</td>\n",
       "    </tr>\n",
       "    <tr>\n",
       "      <th>7</th>\n",
       "      <td>1957</td>\n",
       "      <td>75.098684</td>\n",
       "    </tr>\n",
       "    <tr>\n",
       "      <th>8</th>\n",
       "      <td>1958</td>\n",
       "      <td>74.648590</td>\n",
       "    </tr>\n",
       "    <tr>\n",
       "      <th>9</th>\n",
       "      <td>1959</td>\n",
       "      <td>75.607423</td>\n",
       "    </tr>\n",
       "    <tr>\n",
       "      <th>10</th>\n",
       "      <td>1960</td>\n",
       "      <td>73.699678</td>\n",
       "    </tr>\n",
       "    <tr>\n",
       "      <th>11</th>\n",
       "      <td>1961</td>\n",
       "      <td>73.150534</td>\n",
       "    </tr>\n",
       "    <tr>\n",
       "      <th>12</th>\n",
       "      <td>1962</td>\n",
       "      <td>72.749756</td>\n",
       "    </tr>\n",
       "    <tr>\n",
       "      <th>13</th>\n",
       "      <td>1963</td>\n",
       "      <td>72.672010</td>\n",
       "    </tr>\n",
       "    <tr>\n",
       "      <th>14</th>\n",
       "      <td>1964</td>\n",
       "      <td>72.233912</td>\n",
       "    </tr>\n",
       "    <tr>\n",
       "      <th>15</th>\n",
       "      <td>1965</td>\n",
       "      <td>72.062959</td>\n",
       "    </tr>\n",
       "    <tr>\n",
       "      <th>16</th>\n",
       "      <td>1966</td>\n",
       "      <td>72.670901</td>\n",
       "    </tr>\n",
       "    <tr>\n",
       "      <th>17</th>\n",
       "      <td>1967</td>\n",
       "      <td>73.171646</td>\n",
       "    </tr>\n",
       "    <tr>\n",
       "      <th>18</th>\n",
       "      <td>1968</td>\n",
       "      <td>71.960849</td>\n",
       "    </tr>\n",
       "    <tr>\n",
       "      <th>19</th>\n",
       "      <td>1969</td>\n",
       "      <td>71.362811</td>\n",
       "    </tr>\n",
       "    <tr>\n",
       "      <th>20</th>\n",
       "      <td>1970</td>\n",
       "      <td>75.139506</td>\n",
       "    </tr>\n",
       "    <tr>\n",
       "      <th>21</th>\n",
       "      <td>1971</td>\n",
       "      <td>74.471730</td>\n",
       "    </tr>\n",
       "    <tr>\n",
       "      <th>22</th>\n",
       "      <td>1972</td>\n",
       "      <td>74.846936</td>\n",
       "    </tr>\n",
       "    <tr>\n",
       "      <th>23</th>\n",
       "      <td>1973</td>\n",
       "      <td>75.822242</td>\n",
       "    </tr>\n",
       "    <tr>\n",
       "      <th>24</th>\n",
       "      <td>1974</td>\n",
       "      <td>77.119123</td>\n",
       "    </tr>\n",
       "    <tr>\n",
       "      <th>25</th>\n",
       "      <td>1975</td>\n",
       "      <td>76.496071</td>\n",
       "    </tr>\n",
       "    <tr>\n",
       "      <th>26</th>\n",
       "      <td>1976</td>\n",
       "      <td>75.132661</td>\n",
       "    </tr>\n",
       "    <tr>\n",
       "      <th>27</th>\n",
       "      <td>1977</td>\n",
       "      <td>75.137382</td>\n",
       "    </tr>\n",
       "    <tr>\n",
       "      <th>28</th>\n",
       "      <td>1978</td>\n",
       "      <td>75.197596</td>\n",
       "    </tr>\n",
       "    <tr>\n",
       "      <th>29</th>\n",
       "      <td>1979</td>\n",
       "      <td>75.237909</td>\n",
       "    </tr>\n",
       "    <tr>\n",
       "      <th>...</th>\n",
       "      <td>...</td>\n",
       "      <td>...</td>\n",
       "    </tr>\n",
       "    <tr>\n",
       "      <th>36</th>\n",
       "      <td>1986</td>\n",
       "      <td>75.633771</td>\n",
       "    </tr>\n",
       "    <tr>\n",
       "      <th>37</th>\n",
       "      <td>1987</td>\n",
       "      <td>76.253721</td>\n",
       "    </tr>\n",
       "    <tr>\n",
       "      <th>38</th>\n",
       "      <td>1988</td>\n",
       "      <td>76.580562</td>\n",
       "    </tr>\n",
       "    <tr>\n",
       "      <th>39</th>\n",
       "      <td>1989</td>\n",
       "      <td>76.768754</td>\n",
       "    </tr>\n",
       "    <tr>\n",
       "      <th>40</th>\n",
       "      <td>1990</td>\n",
       "      <td>76.404512</td>\n",
       "    </tr>\n",
       "    <tr>\n",
       "      <th>41</th>\n",
       "      <td>1991</td>\n",
       "      <td>76.475638</td>\n",
       "    </tr>\n",
       "    <tr>\n",
       "      <th>42</th>\n",
       "      <td>1992</td>\n",
       "      <td>75.879814</td>\n",
       "    </tr>\n",
       "    <tr>\n",
       "      <th>43</th>\n",
       "      <td>1993</td>\n",
       "      <td>75.428935</td>\n",
       "    </tr>\n",
       "    <tr>\n",
       "      <th>44</th>\n",
       "      <td>1994</td>\n",
       "      <td>73.432016</td>\n",
       "    </tr>\n",
       "    <tr>\n",
       "      <th>45</th>\n",
       "      <td>1995</td>\n",
       "      <td>73.667790</td>\n",
       "    </tr>\n",
       "    <tr>\n",
       "      <th>46</th>\n",
       "      <td>1996</td>\n",
       "      <td>73.969569</td>\n",
       "    </tr>\n",
       "    <tr>\n",
       "      <th>47</th>\n",
       "      <td>1997</td>\n",
       "      <td>73.826550</td>\n",
       "    </tr>\n",
       "    <tr>\n",
       "      <th>48</th>\n",
       "      <td>1998</td>\n",
       "      <td>73.691874</td>\n",
       "    </tr>\n",
       "    <tr>\n",
       "      <th>49</th>\n",
       "      <td>1999</td>\n",
       "      <td>72.812107</td>\n",
       "    </tr>\n",
       "    <tr>\n",
       "      <th>50</th>\n",
       "      <td>2000</td>\n",
       "      <td>75.017884</td>\n",
       "    </tr>\n",
       "    <tr>\n",
       "      <th>51</th>\n",
       "      <td>2001</td>\n",
       "      <td>74.750156</td>\n",
       "    </tr>\n",
       "    <tr>\n",
       "      <th>52</th>\n",
       "      <td>2002</td>\n",
       "      <td>75.232127</td>\n",
       "    </tr>\n",
       "    <tr>\n",
       "      <th>53</th>\n",
       "      <td>2003</td>\n",
       "      <td>75.775777</td>\n",
       "    </tr>\n",
       "    <tr>\n",
       "      <th>54</th>\n",
       "      <td>2004</td>\n",
       "      <td>75.165034</td>\n",
       "    </tr>\n",
       "    <tr>\n",
       "      <th>55</th>\n",
       "      <td>2005</td>\n",
       "      <td>75.609642</td>\n",
       "    </tr>\n",
       "    <tr>\n",
       "      <th>56</th>\n",
       "      <td>2006</td>\n",
       "      <td>74.533230</td>\n",
       "    </tr>\n",
       "    <tr>\n",
       "      <th>57</th>\n",
       "      <td>2007</td>\n",
       "      <td>75.220190</td>\n",
       "    </tr>\n",
       "    <tr>\n",
       "      <th>58</th>\n",
       "      <td>2008</td>\n",
       "      <td>75.532487</td>\n",
       "    </tr>\n",
       "    <tr>\n",
       "      <th>59</th>\n",
       "      <td>2009</td>\n",
       "      <td>77.074878</td>\n",
       "    </tr>\n",
       "    <tr>\n",
       "      <th>60</th>\n",
       "      <td>2010</td>\n",
       "      <td>75.886513</td>\n",
       "    </tr>\n",
       "    <tr>\n",
       "      <th>61</th>\n",
       "      <td>2011</td>\n",
       "      <td>76.346831</td>\n",
       "    </tr>\n",
       "    <tr>\n",
       "      <th>62</th>\n",
       "      <td>2012</td>\n",
       "      <td>75.249595</td>\n",
       "    </tr>\n",
       "    <tr>\n",
       "      <th>63</th>\n",
       "      <td>2013</td>\n",
       "      <td>75.286524</td>\n",
       "    </tr>\n",
       "    <tr>\n",
       "      <th>64</th>\n",
       "      <td>2014</td>\n",
       "      <td>75.600131</td>\n",
       "    </tr>\n",
       "    <tr>\n",
       "      <th>65</th>\n",
       "      <td>2015</td>\n",
       "      <td>75.022243</td>\n",
       "    </tr>\n",
       "  </tbody>\n",
       "</table>\n",
       "<p>66 rows × 2 columns</p>\n",
       "</div>"
      ],
      "text/plain": [
       "    year  avg_ft_pct\n",
       "0   1950   71.248957\n",
       "1   1951   73.336719\n",
       "2   1952   73.484641\n",
       "3   1953   71.590322\n",
       "4   1954   70.874784\n",
       "5   1955   73.700929\n",
       "6   1956   74.521973\n",
       "7   1957   75.098684\n",
       "8   1958   74.648590\n",
       "9   1959   75.607423\n",
       "10  1960   73.699678\n",
       "11  1961   73.150534\n",
       "12  1962   72.749756\n",
       "13  1963   72.672010\n",
       "14  1964   72.233912\n",
       "15  1965   72.062959\n",
       "16  1966   72.670901\n",
       "17  1967   73.171646\n",
       "18  1968   71.960849\n",
       "19  1969   71.362811\n",
       "20  1970   75.139506\n",
       "21  1971   74.471730\n",
       "22  1972   74.846936\n",
       "23  1973   75.822242\n",
       "24  1974   77.119123\n",
       "25  1975   76.496071\n",
       "26  1976   75.132661\n",
       "27  1977   75.137382\n",
       "28  1978   75.197596\n",
       "29  1979   75.237909\n",
       "..   ...         ...\n",
       "36  1986   75.633771\n",
       "37  1987   76.253721\n",
       "38  1988   76.580562\n",
       "39  1989   76.768754\n",
       "40  1990   76.404512\n",
       "41  1991   76.475638\n",
       "42  1992   75.879814\n",
       "43  1993   75.428935\n",
       "44  1994   73.432016\n",
       "45  1995   73.667790\n",
       "46  1996   73.969569\n",
       "47  1997   73.826550\n",
       "48  1998   73.691874\n",
       "49  1999   72.812107\n",
       "50  2000   75.017884\n",
       "51  2001   74.750156\n",
       "52  2002   75.232127\n",
       "53  2003   75.775777\n",
       "54  2004   75.165034\n",
       "55  2005   75.609642\n",
       "56  2006   74.533230\n",
       "57  2007   75.220190\n",
       "58  2008   75.532487\n",
       "59  2009   77.074878\n",
       "60  2010   75.886513\n",
       "61  2011   76.346831\n",
       "62  2012   75.249595\n",
       "63  2013   75.286524\n",
       "64  2014   75.600131\n",
       "65  2015   75.022243\n",
       "\n",
       "[66 rows x 2 columns]"
      ]
     },
     "execution_count": 10,
     "metadata": {},
     "output_type": "execute_result"
    }
   ],
   "source": [
    "query = \"SELECT year, SUM(ft)/SUM(fta)*100 as avg_ft_pct FROM seasontotals GROUP BY year ORDER BY year ASC\"\n",
    "avgByYear = psql.read_sql(query, conn) \n",
    "avgByYear"
   ]
  },
  {
   "cell_type": "code",
   "execution_count": 12,
   "metadata": {
    "collapsed": false
   },
   "outputs": [
    {
     "data": {
      "text/plain": [
       "<matplotlib.text.Text at 0x10cd2c2e8>"
      ]
     },
     "execution_count": 12,
     "metadata": {},
     "output_type": "execute_result"
    },
    {
     "data": {
      "image/png": "[encoded data removed]",
      "text/plain": [
       "<matplotlib.figure.Figure at 0x10cdd7be0>"
      ]
     },
     "metadata": {},
     "output_type": "display_data"
    }
   ],
   "source": [
    "plt.plot(avgByYear.year, avgByYear.avg_ft_pct)\n",
    "plt.ylabel('Free Throw Percentage')"
   ]
  },
  {
   "cell_type": "markdown",
   "metadata": {},
   "source": [
    "### FT percentage as a function of gametime"
   ]
  },
  {
   "cell_type": "markdown",
   "metadata": {},
   "source": [
    "The premise of this exploration as a whole is to get a sense of which features correlate with free throw percentage. Even a few that do would be interesting as people currently only consider season or career averages. Gametime seems like it could have some impact on free throw percentage. As a whole, the best players are more likely to play in the first and fourth quarters and rest sometime during the middle of the game. One could imagine that players get warmed up during the course of the game, but they might also get tired near the end. Overall, there will be a lot of correlated factors so it is impossible to get causal relationships, but observing trends is a start. At this point, we are getting into analyses that could not be done without play-by-play data. "
   ]
  },
  {
   "cell_type": "code",
   "execution_count": 13,
   "metadata": {
    "collapsed": true
   },
   "outputs": [],
   "source": [
    "query = \"SELECT FLOOR(gametime) as gametime, AVG(result) as ftpct FROM pbpfts GROUP BY FLOOR(gametime) ORDER BY FLOOR(gametime) ASC\"\n",
    "gametimeresults = psql.read_sql(\"SELECT FLOOR(gametime) as gametime, AVG(result) as ftpct FROM pbpfts GROUP BY FLOOR(gametime) ORDER BY FLOOR(gametime) ASC\", conn)"
   ]
  },
  {
   "cell_type": "code",
   "execution_count": 14,
   "metadata": {
    "collapsed": false
   },
   "outputs": [
    {
     "data": {
      "text/plain": [
       "<matplotlib.text.Text at 0x10ce25e10>"
      ]
     },
     "execution_count": 14,
     "metadata": {},
     "output_type": "execute_result"
    },
    {
     "data": {
      "image/png": "[encoded data removed]",
      "text/plain": [
       "<matplotlib.figure.Figure at 0x10cee1048>"
      ]
     },
     "metadata": {},
     "output_type": "display_data"
    }
   ],
   "source": [
    "plt.plot(gametimeresults.gametime, gametimeresults.ftpct, '-o')\n",
    "plt.xlim((0,47))\n",
    "plt.ylim((.7,.8))\n",
    "plt.title('Game Time vs. FT %')\n",
    "plt.xlabel('Game Time (min)')\n",
    "plt.ylabel('FT %')"
   ]
  },
  {
   "cell_type": "markdown",
   "metadata": {},
   "source": [
    "As we can see, the most obvious feature of the plot is that the free throw percentage is lower at the beginning of each quarter. Perhaps this indicates that players are more likely to be cold after sitting, but we definitely have to control for the players shooting the free throws. It is particularly true that substitutes tend to play at the beinning of the second quarter. Also, we see a rise in the free throw percentage in the last minute of the game. This should not be entirely surprising since teams intentionally play there best free throw shooters at the end of the game when the other team is in a position to foul."
   ]
  },
  {
   "cell_type": "markdown",
   "metadata": {},
   "source": [
    "### Gametime dependence by player"
   ]
  },
  {
   "cell_type": "markdown",
   "metadata": {},
   "source": [
    "We want to control for whether the gametime dependence is really a manifestation of different players being on the court. To do this, I will calculate an average free throw percentage at each minute of the game, but instead of averaging over all free throws attempted, I will average all the players' free throw percentages. In this way, the same players are all weighted equally no matter how many free throws they attempt at a given gametime. Just to not include players who shoot extremely few free throws, I am only averaging over the top 200 shooters by volume."
   ]
  },
  {
   "cell_type": "code",
   "execution_count": 17,
   "metadata": {
    "collapsed": false
   },
   "outputs": [
    {
     "data": {
      "text/html": [
       "<div>\n",
       "<table border=\"1\" class=\"dataframe\">\n",
       "  <thead>\n",
       "    <tr style=\"text-align: right;\">\n",
       "      <th></th>\n",
       "      <th>player</th>\n",
       "      <th>fts</th>\n",
       "    </tr>\n",
       "  </thead>\n",
       "  <tbody>\n",
       "    <tr>\n",
       "      <th>0</th>\n",
       "      <td>K. Bryant</td>\n",
       "      <td>9547</td>\n",
       "    </tr>\n",
       "    <tr>\n",
       "      <th>1</th>\n",
       "      <td>L. James</td>\n",
       "      <td>9422</td>\n",
       "    </tr>\n",
       "    <tr>\n",
       "      <th>2</th>\n",
       "      <td>P. Pierce</td>\n",
       "      <td>8617</td>\n",
       "    </tr>\n",
       "    <tr>\n",
       "      <th>3</th>\n",
       "      <td>J. Smith</td>\n",
       "      <td>8418</td>\n",
       "    </tr>\n",
       "    <tr>\n",
       "      <th>4</th>\n",
       "      <td>T. Duncan</td>\n",
       "      <td>8257</td>\n",
       "    </tr>\n",
       "    <tr>\n",
       "      <th>5</th>\n",
       "      <td>D. Howard</td>\n",
       "      <td>8212</td>\n",
       "    </tr>\n",
       "    <tr>\n",
       "      <th>6</th>\n",
       "      <td>D. Nowitzki</td>\n",
       "      <td>8207</td>\n",
       "    </tr>\n",
       "    <tr>\n",
       "      <th>7</th>\n",
       "      <td>D. Wade</td>\n",
       "      <td>7463</td>\n",
       "    </tr>\n",
       "    <tr>\n",
       "      <th>8</th>\n",
       "      <td>C. Anthony</td>\n",
       "      <td>6842</td>\n",
       "    </tr>\n",
       "    <tr>\n",
       "      <th>9</th>\n",
       "      <td>S. O'Neal</td>\n",
       "      <td>6709</td>\n",
       "    </tr>\n",
       "  </tbody>\n",
       "</table>\n",
       "</div>"
      ],
      "text/plain": [
       "        player   fts\n",
       "0    K. Bryant  9547\n",
       "1     L. James  9422\n",
       "2    P. Pierce  8617\n",
       "3     J. Smith  8418\n",
       "4    T. Duncan  8257\n",
       "5    D. Howard  8212\n",
       "6  D. Nowitzki  8207\n",
       "7      D. Wade  7463\n",
       "8   C. Anthony  6842\n",
       "9    S. O'Neal  6709"
      ]
     },
     "execution_count": 17,
     "metadata": {},
     "output_type": "execute_result"
    }
   ],
   "source": [
    "query = \"SELECT player, count(result) as FTs FROM pbpfts GROUP BY player ORDER BY count(result) DESC LIMIT  100\"\n",
    "topshooters = psql.read_sql(query, conn)\n",
    "topshooters.head(10)"
   ]
  },
  {
   "cell_type": "code",
   "execution_count": 18,
   "metadata": {
    "collapsed": true
   },
   "outputs": [],
   "source": [
    "query = \"SELECT player, FLOOR(gametime) as gametime, AVG(result) as ftpct FROM pbpfts WHERE player IN (SELECT player FROM pbpfts GROUP BY player ORDER BY count(result) DESC LIMIT  200) \\\n",
    "AND gametime < 48 GROUP BY player, FLOOR(gametime) ORDER BY player ASC, FLOOR(gametime) ASC\"\n",
    "gametimetopshooters = psql.read_sql(query, conn)"
   ]
  },
  {
   "cell_type": "code",
   "execution_count": 21,
   "metadata": {
    "collapsed": false
   },
   "outputs": [
    {
     "data": {
      "text/plain": [
       "<matplotlib.legend.Legend at 0x10d082e80>"
      ]
     },
     "execution_count": 21,
     "metadata": {},
     "output_type": "execute_result"
    },
    {
     "data": {
      "image/png": "[encoded data removed]",
      "text/plain": [
       "<matplotlib.figure.Figure at 0x10d1ab6d8>"
      ]
     },
     "metadata": {},
     "output_type": "display_data"
    }
   ],
   "source": [
    "groupedtime = gametimetopshooters.groupby(['gametime'])\n",
    "groupedtime.agg(np.mean)\n",
    "plt.plot(groupedtime.agg(np.mean).index,groupedtime.agg(np.mean).ftpct,'-o', label='Averaged by top 200 players')\n",
    "plt.plot(gametimeresults.gametime, gametimeresults.ftpct, '-o', label='Overall average')\n",
    "plt.xlim((0,47))\n",
    "plt.ylim((.7,.8))\n",
    "plt.title(' FT % vs. Gametime')\n",
    "plt.xlabel('Gametime (min)')\n",
    "plt.ylabel('FT %')\n",
    "plt.legend(loc='best')"
   ]
  },
  {
   "cell_type": "markdown",
   "metadata": {},
   "source": [
    "The important thing to note from this plot is that the same early quarter phenomenon is present even when we control for who is taking the free throws. For the blue line, we are equally weighting the free throw percentage for the top 200 players at each minute of game time. Even if worse players take more free throws at the beginning of quarters, they will not be weighted more heavily, yet the phenomenon is still present. Also, end-of-game spike in the overall average now seems more likely to be just based on the best shooters taking more shots. Averaging by player, there is even a decrease of around 1% in the last minute. One might hypothesize that this is due to choking, but we need a more controlled analysis to say this with any certainty."
   ]
  },
  {
   "cell_type": "markdown",
   "metadata": {},
   "source": [
    "### Effect of years in the league"
   ]
  },
  {
   "cell_type": "markdown",
   "metadata": {},
   "source": [
    "Though this does not depend on play-by-play data, it will be important to determine if a player's experience affects their free throw shooting percentage. One could consider whether there is a league-wide trend, or whether each player's career can have a trajectory robust enough to be used for prediction. I'll start with the league-wide average by years in the league. "
   ]
  },
  {
   "cell_type": "code",
   "execution_count": 26,
   "metadata": {
    "collapsed": true
   },
   "outputs": [],
   "source": [
    "query = \"SELECT years_in_league, SUM(ft)/SUM(fta) as ftpct, SUM(fta) as allfts FROM seasonwithcareer as swc  \\\n",
    "WHERE swc.playerid IN (SELECT playerid FROM allpbpfts GROUP BY playerid ORDER BY count(result) DESC LIMIT  200)\\\n",
    "GROUP BY years_in_league ORDER BY years_in_league ASC\"\n",
    "byYears = psql.read_sql(query,conn)"
   ]
  },
  {
   "cell_type": "code",
   "execution_count": 25,
   "metadata": {
    "collapsed": false
   },
   "outputs": [
    {
     "data": {
      "text/plain": [
       "<matplotlib.text.Text at 0x10d233588>"
      ]
     },
     "execution_count": 25,
     "metadata": {},
     "output_type": "execute_result"
    },
    {
     "data": {
      "image/png": "[encoded data removed]",
      "text/plain": [
       "<matplotlib.figure.Figure at 0x10d2dea90>"
      ]
     },
     "metadata": {},
     "output_type": "display_data"
    }
   ],
   "source": [
    "plt.plot(byYears.years_in_league,byYears.ftpct)\n",
    "plt.title('FT percentage vs. Years in league')\n",
    "plt.ylabel('FT %')\n",
    "plt.xlabel('Years in league')"
   ]
  },
  {
   "cell_type": "code",
   "execution_count": 30,
   "metadata": {
    "collapsed": false
   },
   "outputs": [
    {
     "data": {
      "text/html": [
       "<div>\n",
       "<table border=\"1\" class=\"dataframe\">\n",
       "  <thead>\n",
       "    <tr style=\"text-align: right;\">\n",
       "      <th></th>\n",
       "      <th>years_in_league</th>\n",
       "      <th>ftpct</th>\n",
       "      <th>allfts</th>\n",
       "    </tr>\n",
       "  </thead>\n",
       "  <tbody>\n",
       "    <tr>\n",
       "      <th>15</th>\n",
       "      <td>15</td>\n",
       "      <td>0.788209</td>\n",
       "      <td>3579</td>\n",
       "    </tr>\n",
       "    <tr>\n",
       "      <th>16</th>\n",
       "      <td>16</td>\n",
       "      <td>0.785972</td>\n",
       "      <td>3607</td>\n",
       "    </tr>\n",
       "    <tr>\n",
       "      <th>17</th>\n",
       "      <td>17</td>\n",
       "      <td>0.739491</td>\n",
       "      <td>1808</td>\n",
       "    </tr>\n",
       "    <tr>\n",
       "      <th>18</th>\n",
       "      <td>18</td>\n",
       "      <td>0.744589</td>\n",
       "      <td>693</td>\n",
       "    </tr>\n",
       "    <tr>\n",
       "      <th>19</th>\n",
       "      <td>19</td>\n",
       "      <td>0.800000</td>\n",
       "      <td>45</td>\n",
       "    </tr>\n",
       "  </tbody>\n",
       "</table>\n",
       "</div>"
      ],
      "text/plain": [
       "    years_in_league     ftpct  allfts\n",
       "15               15  0.788209    3579\n",
       "16               16  0.785972    3607\n",
       "17               17  0.739491    1808\n",
       "18               18  0.744589     693\n",
       "19               19  0.800000      45"
      ]
     },
     "execution_count": 30,
     "metadata": {},
     "output_type": "execute_result"
    }
   ],
   "source": [
    "byYears.tail()"
   ]
  },
  {
   "cell_type": "markdown",
   "metadata": {},
   "source": [
    "As we see, there is a 4% increase in free throw percentage between the first and fourth years in the league, but not much change after that. The volatility at high number of years in the league reflects how there are only a few players who last that long."
   ]
  },
  {
   "cell_type": "code",
   "execution_count": 52,
   "metadata": {
    "collapsed": true
   },
   "outputs": [],
   "source": [
    "query = \"SELECT playerid, years_in_league, 100*SUM(ft)/SUM(fta) as ftpct, SUM(fta) as allfts FROM seasonwithcareer as swc  \\\n",
    "WHERE swc.playerid IN (SELECT playerid FROM allpbpfts GROUP BY playerid ORDER BY count(result) DESC LIMIT  10)\\\n",
    "GROUP BY playerid, years_in_league ORDER BY playerid, years_in_league ASC\"\n",
    "byPlayer = psql.read_sql(query,conn)"
   ]
  },
  {
   "cell_type": "code",
   "execution_count": 53,
   "metadata": {
    "collapsed": false
   },
   "outputs": [
    {
     "data": {
      "text/plain": [
       "<matplotlib.text.Text at 0x10d94aac8>"
      ]
     },
     "execution_count": 53,
     "metadata": {},
     "output_type": "execute_result"
    },
    {
     "data": {
      "image/png": "[encoded data removed]",
      "text/plain": [
       "<matplotlib.figure.Figure at 0x10d15eb00>"
      ]
     },
     "metadata": {},
     "output_type": "display_data"
    }
   ],
   "source": [
    "for playerid in byPlayer.playerid.unique():\n",
    "    plt.plot(byPlayer.years_in_league[byPlayer.playerid==playerid],byPlayer.ftpct[byPlayer.playerid==playerid], label=playerid)\n",
    "    \n",
    "plt.legend(bbox_to_anchor=(1.5, 0), loc=4)\n",
    "plt.ylabel('Free Throw Percentage')\n",
    "plt.xlabel('Years in league')"
   ]
  },
  {
   "cell_type": "markdown",
   "metadata": {},
   "source": [
    "We can see that free throw percentage over years in the league doesn't change much for most players. However, it could still be useful for some players. Particularly Dwight Howard (`howardw01`) has had a decreasing free throw percentage for most years in his career."
   ]
  },
  {
   "cell_type": "markdown",
   "metadata": {},
   "source": [
    "### Effect of free throw number"
   ]
  },
  {
   "cell_type": "markdown",
   "metadata": {},
   "source": [
    "One thing that we saw in the gametime exploration was that it seems like players get warmed up over time. They tend to shoot worse in the first few minutes of each quarter, even when controlling for quality of the free throw shooter. This suggests that players may need time to warm up in any given trip to the line. To examine if there is an effect, I'll calculate the free throw percentage by free throw number (1,2, or 3 depending on how many free throws are awarded). I'll also remove technical free throws as they would result in better players shooting more first free throws."
   ]
  },
  {
   "cell_type": "code",
   "execution_count": 13,
   "metadata": {
    "collapsed": false
   },
   "outputs": [
    {
     "data": {
      "text/html": [
       "<div>\n",
       "<table border=\"1\" class=\"dataframe\">\n",
       "  <thead>\n",
       "    <tr style=\"text-align: right;\">\n",
       "      <th></th>\n",
       "      <th>ftpct</th>\n",
       "      <th>shooterpct</th>\n",
       "    </tr>\n",
       "  </thead>\n",
       "  <tbody>\n",
       "    <tr>\n",
       "      <th>First FT</th>\n",
       "      <td>73.170134</td>\n",
       "      <td>74.643450</td>\n",
       "    </tr>\n",
       "    <tr>\n",
       "      <th>Second FT</th>\n",
       "      <td>77.787831</td>\n",
       "      <td>74.891293</td>\n",
       "    </tr>\n",
       "    <tr>\n",
       "      <th>Third FT</th>\n",
       "      <td>85.170068</td>\n",
       "      <td>80.935177</td>\n",
       "    </tr>\n",
       "  </tbody>\n",
       "</table>\n",
       "</div>"
      ],
      "text/plain": [
       "               ftpct  shooterpct\n",
       "First FT   73.170134   74.643450\n",
       "Second FT  77.787831   74.891293\n",
       "Third FT   85.170068   80.935177"
      ]
     },
     "execution_count": 13,
     "metadata": {},
     "output_type": "execute_result"
    }
   ],
   "source": [
    "query = \"SELECT 100*SUM(result)/COUNT(result) as FTpct, 100*SUM(ytd_ftpct)/COUNT(result) as Shooterpct\\\n",
    "        FROM allpbpfts WHERE tech=0 GROUP BY ftnumber\"\n",
    "byFTnumber = psql.read_sql(query,conn)\n",
    "byFTnumber.index = ['First FT', 'Second FT', 'Third FT']\n",
    "byFTnumber"
   ]
  },
  {
   "cell_type": "markdown",
   "metadata": {},
   "source": [
    "As we see here, free throw percentage increases significantly with free throw number. The 4.6% difference between first and second free throws is bigger than any effect explored thus far. I speculated that the average quality of shooter could be different between the different free throw numbers and thus kept track of that as `shooterpct`. It turns out that there is only much of a difference for third free throws. This makes sense as only three point shooters have a chance for three free throws and they tend to be better shooters."
   ]
  },
  {
   "cell_type": "markdown",
   "metadata": {},
   "source": [
    "## Free Throw Prediction"
   ]
  },
  {
   "cell_type": "markdown",
   "metadata": {},
   "source": [
    "### Obeying the flow of time"
   ]
  },
  {
   "cell_type": "markdown",
   "metadata": {},
   "source": [
    "In designing a sensible tool for prediction free throw percentage, we have to come up with a model that is not trained using any future data, even though it may be in our database. This means that we will have very little information on an individual at the beginning of their rookie season, but we will gain data and incorporate it to make better predictions over time.\n",
    "\n",
    "In the exploration above, we find that there are league-wide trends based on free throw number, score differential, and venue, but each individual has their own trends too. The best model will probably rely more on league trends when the player has few attempts on record and then become more personalized as the data comes in. With this in mind, let's make an example dataset with all the free throws from LeBron James to train a model."
   ]
  },
  {
   "cell_type": "code",
   "execution_count": 29,
   "metadata": {
    "collapsed": true
   },
   "outputs": [],
   "source": [
    "query = \"SELECT date, gametime, CASE WHEN teamha='H' THEN 1 ELSE 0 END as ishome, score_diff, ftnumber, tech, attempts_to_date, \\\n",
    "CASE WHEN (attempts_to_date>=100 OR ctd_ftpct IS NULL) THEN ytd_ftpct ELSE ctd_ftpct END as ftpct, years_in_league, result \\\n",
    "FROM (allpbpfts as pbp JOIN allgames ON pbp.gameid=allgames.gameid) \\\n",
    "JOIN seasonwithcareer as swc ON pbp.playerid=swc.playerid AND allgames.season=swc.year \\\n",
    "WHERE pbp.playerid='jamesle01' ORDER BY years_in_league ASC, attempts_to_date ASC\"\n",
    "lebronFTs = psql.read_sql(query,conn)"
   ]
  },
  {
   "cell_type": "code",
   "execution_count": 30,
   "metadata": {
    "collapsed": true
   },
   "outputs": [],
   "source": [
    "lebronFTsX, lebronFTsY = lebronFTs.ix[:,:-1], lebronFTs.ix[:,-1]\n",
    "X_train, X_toPredict, Y_train, Y_toPredict = train_test_split(lebronFTsX, lebronFTsY, test_size=0.1, random_state=8)"
   ]
  },
  {
   "cell_type": "markdown",
   "metadata": {},
   "source": [
    "### The log loss metric"
   ]
  },
  {
   "cell_type": "markdown",
   "metadata": {},
   "source": [
    "It is important to consider the metric used to evaluate a predicted free throw percentage. Since the result of a given attempt is always going to be 0 or 1, a perfect estimate of the free throw percentage will not label any free throws correctly. The purpose of the log loss metric is that it penalizes predictions based on how far they were from the actual result. The loss function is,\n",
    "$$logloss=-\\frac{1}{N}\\sum_{i=1}^N(y_ilog(p_i)+(1-y_i)log(1-p_i)$$\n",
    "This loss function is unbiased in that the correct free throw percentage will minimize the loss function over a large sample."
   ]
  },
  {
   "cell_type": "code",
   "execution_count": 14,
   "metadata": {
    "collapsed": true
   },
   "outputs": [],
   "source": [
    "def logloss(actual, pred):\n",
    "    epsilon = 1e-15\n",
    "    pred = scipy.maximum(epsilon, pred) #buffer from 0 so that the log loss isn't infinite\n",
    "    pred = scipy.minimum(1-epsilon, pred)\n",
    "    logl = sum(actual*scipy.log(pred) + scipy.subtract(1,actual)*scipy.log(scipy.subtract(1,pred)))\n",
    "    logl = logl * -1.0/len(actual)\n",
    "    return logl"
   ]
  },
  {
   "cell_type": "markdown",
   "metadata": {},
   "source": [
    "### Feature standardization"
   ]
  },
  {
   "cell_type": "markdown",
   "metadata": {},
   "source": [
    "It is important to make sure that the features are standardized for many machine learning algorithms. In some cases, particularly that include Euclidean distance, features with smaller variance will be weighted more strongly. In other cases, like algorithms using stochastic gradient descent, non-standardized features will lead to convergence problems as partial derivatives can be on different scales.\n",
    "\n",
    "To do the standardization, I will first subtract off the mean of the feature and then divide by twice the standard deviation. This may seem unorthodox, but it enables better standardization when there are also binary variables. This is because a balanced binary variable has a standard deviation of 0.5 . For more on this, check out [www.stat.columbia.edu/~gelman/research/unpublished/standardizing.pdf](http://www.stat.columbia.edu/~gelman/research/unpublished/standardizing.pdf)"
   ]
  },
  {
   "cell_type": "code",
   "execution_count": 22,
   "metadata": {
    "collapsed": false
   },
   "outputs": [],
   "source": [
    "toStandardize = ['gametime', 'score_diff', 'ftnumber','attempts_to_date', 'ftpct', 'years_in_league']\n",
    "scalers = [StandardScaler()]*len(toStandardize)\n",
    "scaled = [None]*len(toStandardize)\n",
    "scaled_X_train = X_train\n",
    "scaled_X_toPredict = X_toPredict\n",
    "for i, column in enumerate(toStandardize):\n",
    "    scalers[i].fit_transform(scaled_X_train[column])\n",
    "    scalers[i].transform(scaled_X_toPredict[column])"
   ]
  },
  {
   "cell_type": "markdown",
   "metadata": {},
   "source": [
    "Technically, feature standardization is not necessary for the random forest model demonstrated below. Since each split in the decision tree is made with respect to a single feature, their relative mean and standard deviation are not important. However, I went through a tremendous number of other models tested through cross validation. Many of those, particularly regularized regression and SVMs require standardization as the sum of coefficients is considered. As there is a sum, we need to be able to treat the coefficients on equal footing so the features must be standardized."
   ]
  },
  {
   "cell_type": "markdown",
   "metadata": {},
   "source": [
    "### Making predictions"
   ]
  },
  {
   "cell_type": "markdown",
   "metadata": {},
   "source": [
    "As a test of the usefulness of this data, I'll demonstrate prediction for Lebron James. This is nice in that he has shot a lot of free throws and his career falls nicely within our range of data, but his free throw shooting is seemingly similar to NBA players as a whole."
   ]
  },
  {
   "cell_type": "code",
   "execution_count": 33,
   "metadata": {
    "collapsed": false
   },
   "outputs": [
    {
     "name": "stdout",
     "output_type": "stream",
     "text": [
      "Complete! Total Elapsed time: 193.6 seconds                        \n"
     ]
    }
   ],
   "source": [
    "rfc = RandomForestClassifier(n_estimators=100, max_depth=3)\n",
    "pbar = ProgressBar.ProgressBar(X_toPredict.shape[0])\n",
    "predrfc = np.empty(X_toPredict.shape[0])\n",
    "predBaseline = np.empty(X_toPredict.shape[0])\n",
    "\n",
    "for i, shot in enumerate(X_toPredict.iterrows()):\n",
    "    shot = shot[1]\n",
    "    forPrediction = lebronFTs[(lebronFTs.years_in_league < shot.years_in_league) | ((lebronFTs.years_in_league == shot.years_in_league) & (lebronFTs.attempts_to_date < shot.attempts_to_date))]\n",
    "    if forPrediction.shape[0]!=0:\n",
    "        forPredictionX, forPredictionY = forPrediction.ix[:,1:-1], forPrediction.ix[:,-1]\n",
    "        rfc.fit(forPredictionX, forPredictionY)\n",
    "        if rfc.n_classes_==2:\n",
    "            predrfc[i] = rfc.predict_proba(shot.ix[1:])[0][1]\n",
    "        else:\n",
    "            predrfc[i] = rfc.classes_\n",
    "    else:\n",
    "        predrfc[i] = shot.ftpct\n",
    "        \n",
    "    predBaseline[i] = shot.ftpct\n",
    "    pbar.increment()\n",
    "pbar.finish()"
   ]
  },
  {
   "cell_type": "code",
   "execution_count": 34,
   "metadata": {
    "collapsed": false
   },
   "outputs": [
    {
     "name": "stdout",
     "output_type": "stream",
     "text": [
      "Baseline log loss: 0.554204921204\n",
      "Random Forest log loss: 0.552256139082\n"
     ]
    }
   ],
   "source": [
    "print('Baseline log loss: ' + str(logloss(Y_toPredict.values,predBaseline)))\n",
    "print('Random Forest log loss: ' + str(logloss(Y_toPredict.values,predrfc)))"
   ]
  },
  {
   "cell_type": "markdown",
   "metadata": {},
   "source": [
    "## Conclusion"
   ]
  },
  {
   "cell_type": "markdown",
   "metadata": {},
   "source": [
    "As we can see, using the Random Forest Classifier that incorporates play-by-play data can reduce the log loss, thus indicating a better prediction. It is not immediately obvious how to translate the log loss score to a certain percent better accuracy. In fact, this conversion depends on knowing the actual free throw percentage of the population. \n",
    "\n",
    "As an example, we can generate a random set of free throws with a certain percentage of makes. Then, we can calculate the log loss of a predictor that perfectly predicts the generating percentage, but not the individual makes or misses. By doing this, we can see that for a 50% shooter, the best log loss would be -ln(.5)=.693 . Free throw shooters of 70% or 80% would have log loss scores more like .5 or .4 . Once the perfect percentage prediction log loss is calculated for a given make percentage, we can calculate the log loss for imperfect percentage predictions. By this means, we can calculate the percent error in our prediction that leads to the log loss difference between the play-by-play model and the baseline. \n",
    "\n",
    "In the case above, the prediction accuracy is improved by 2-3% by using play-by-play data. Even though this model is far from optimized and there is much more feature engineering possible with more work, this scale of improvement could already lead to different decisions in game."
   ]
  },
  {
   "cell_type": "markdown",
   "metadata": {},
   "source": [
    "## Future directions"
   ]
  },
  {
   "cell_type": "markdown",
   "metadata": {},
   "source": [
    "The example shown above is representative of how the play-by-play data informs a model for free throw percentage. However, there may be significant room to improve prediction for shooters with few data points. In this case, we would have to take a collaborative approach and see what can be gained from shooters as a whole to inform the shooter with less data. In general, combining the league behavior that has little variance with the individual behavior that has high variance but low bias could lead to good results."
   ]
  }
 ],
 "metadata": {
  "anaconda-cloud": {},
  "kernelspec": {
   "display_name": "Python [default]",
   "language": "python",
   "name": "python3"
  },
  "language_info": {
   "codemirror_mode": {
    "name": "ipython",
    "version": 3
   },
   "file_extension": ".py",
   "mimetype": "text/x-python",
   "name": "python",
   "nbconvert_exporter": "python",
   "pygments_lexer": "ipython3",
   "version": "3.5.1"
  }
 },
 "nbformat": 4,
 "nbformat_minor": 0
}
